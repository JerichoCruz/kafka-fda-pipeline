{
 "cells": [
  {
   "cell_type": "code",
   "execution_count": 2,
   "metadata": {},
   "outputs": [],
   "source": [
    "from kafka import KafkaConsumer\n",
    "from time import sleep\n",
    "from json import dumps,loads\n",
    "import json\n",
    "from s3fs import S3FileSystem"
   ]
  },
  {
   "cell_type": "code",
   "execution_count": 3,
   "metadata": {},
   "outputs": [],
   "source": [
    "# Create a Kafka consumer for the 'demo_test' topic with the specified bootstrap server\n",
    "consumer = KafkaConsumer(\n",
    "    'demo_test',\n",
    "    # Use the 'loads' function from the 'json' module to deserialize the value\n",
    "    value_deserializer=lambda x: loads(x.decode('utf-8')),\n",
    "    bootstrap_servers=['11.111.11.111:9092'])\n",
    "\n",
    "# Note: Make sure to change the IP address in the 'bootstrap_servers' argument to the correct one for your Kafka cluster."
   ]
  },
  {
   "cell_type": "code",
   "execution_count": 5,
   "metadata": {},
   "outputs": [],
   "source": [
    "s3 = S3FileSystem()"
   ]
  },
  {
   "cell_type": "code",
   "execution_count": null,
   "metadata": {},
   "outputs": [],
   "source": [
    "# Enumerate the Kafka consumer messages and write each message to a separate file in an S3 bucket\n",
    "for count, i in enumerate(consumer):\n",
    "    # Open a file in the S3 bucket with the specified name\n",
    "    with s3.open(\"s3://kafka-fda-demo/fda_demo_{}.json\".format(count), 'w') as file:\n",
    "        # Write the message value (deserialized using the 'value_deserializer' function) to the file as JSON\n",
    "        json.dump(i.value, file) "
   ]
  }
 ],
 "metadata": {
  "kernelspec": {
   "display_name": "Python 3",
   "language": "python",
   "name": "python3"
  },
  "language_info": {
   "codemirror_mode": {
    "name": "ipython",
    "version": 3
   },
   "file_extension": ".py",
   "mimetype": "text/x-python",
   "name": "python",
   "nbconvert_exporter": "python",
   "pygments_lexer": "ipython3",
   "version": "3.10.9 (tags/v3.10.9:1dd9be6, Dec  6 2022, 20:01:21) [MSC v.1934 64 bit (AMD64)]"
  },
  "orig_nbformat": 4,
  "vscode": {
   "interpreter": {
    "hash": "73631549e961c7b7175d0af80bfcfcb236b63cd6b06f5c94d54f2957dbf332ee"
   }
  }
 },
 "nbformat": 4,
 "nbformat_minor": 2
}
