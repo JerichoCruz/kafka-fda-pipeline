{
 "cells": [
  {
   "cell_type": "code",
   "execution_count": null,
   "metadata": {},
   "outputs": [],
   "source": [
    "!pip install kafka-python"
   ]
  },
  {
   "cell_type": "code",
   "execution_count": 2,
   "metadata": {},
   "outputs": [],
   "source": [
    "import pandas as pd\n",
    "from kafka import KafkaProducer\n",
    "from time import sleep\n",
    "from json import dumps\n",
    "import json\n",
    "import requests"
   ]
  },
  {
   "cell_type": "code",
   "execution_count": 3,
   "metadata": {},
   "outputs": [],
   "source": [
    "producer = KafkaProducer(bootstrap_servers=['11.111.11.111:9092'], #change ip here\n",
    "                         value_serializer=lambda x: \n",
    "                         dumps(x).encode('utf-8'))"
   ]
  },
  {
   "cell_type": "code",
   "execution_count": 5,
   "metadata": {},
   "outputs": [
    {
     "data": {
      "text/plain": [
       "{'meta': {'disclaimer': 'Do not rely on openFDA to make decisions regarding medical care. While we make every effort to ensure that data is accurate, you should assume all results are unvalidated. We may limit or otherwise restrict your access to the API in line with our Terms of Service.',\n",
       "  'terms': 'https://open.fda.gov/terms/',\n",
       "  'license': 'https://open.fda.gov/license/',\n",
       "  'last_updated': '2022-11-04',\n",
       "  'results': {'skip': 0, 'limit': 1, 'total': 15600243}},\n",
       " 'results': [{'safetyreportid': '5801206-7',\n",
       "   'transmissiondateformat': '102',\n",
       "   'transmissiondate': '20090109',\n",
       "   'serious': '1',\n",
       "   'seriousnessdeath': '1',\n",
       "   'receivedateformat': '102',\n",
       "   'receivedate': '20080707',\n",
       "   'receiptdateformat': '102',\n",
       "   'receiptdate': '20080625',\n",
       "   'fulfillexpeditecriteria': '1',\n",
       "   'companynumb': 'JACAN16471',\n",
       "   'primarysource': {'reportercountry': 'CANADA', 'qualification': '3'},\n",
       "   'sender': {'senderorganization': 'FDA-Public Use'},\n",
       "   'receiver': None,\n",
       "   'patient': {'patientonsetage': '26',\n",
       "    'patientonsetageunit': '801',\n",
       "    'patientsex': '1',\n",
       "    'patientdeath': {'patientdeathdateformat': None, 'patientdeathdate': None},\n",
       "    'reaction': [{'reactionmeddrapt': 'DRUG ADMINISTRATION ERROR'},\n",
       "     {'reactionmeddrapt': 'OVERDOSE'}],\n",
       "    'drug': [{'drugcharacterization': '1',\n",
       "      'medicinalproduct': 'DURAGESIC-100',\n",
       "      'drugauthorizationnumb': '019813',\n",
       "      'drugadministrationroute': '041',\n",
       "      'drugindication': 'DRUG ABUSE'}]}}]}"
      ]
     },
     "execution_count": 5,
     "metadata": {},
     "output_type": "execute_result"
    }
   ],
   "source": [
    "# import requests\n",
    "api_url = \"https://api.fda.gov/drug/event.json?api_key=yourAPIkeyhere&search=\"\n",
    "response = requests.get(api_url)\n",
    "response.status_code\n",
    "response.json()"
   ]
  },
  {
   "cell_type": "code",
   "execution_count": null,
   "metadata": {},
   "outputs": [],
   "source": [
    "while True:\n",
    "    producer.send('demo_test', value=response.json())\n",
    "    sleep(1)"
   ]
  }
 ],
 "metadata": {
  "kernelspec": {
   "display_name": "Python 3",
   "language": "python",
   "name": "python3"
  },
  "language_info": {
   "codemirror_mode": {
    "name": "ipython",
    "version": 3
   },
   "file_extension": ".py",
   "mimetype": "text/x-python",
   "name": "python",
   "nbconvert_exporter": "python",
   "pygments_lexer": "ipython3",
   "version": "3.10.9 (tags/v3.10.9:1dd9be6, Dec  6 2022, 20:01:21) [MSC v.1934 64 bit (AMD64)]"
  },
  "orig_nbformat": 4,
  "vscode": {
   "interpreter": {
    "hash": "73631549e961c7b7175d0af80bfcfcb236b63cd6b06f5c94d54f2957dbf332ee"
   }
  }
 },
 "nbformat": 4,
 "nbformat_minor": 2
}
